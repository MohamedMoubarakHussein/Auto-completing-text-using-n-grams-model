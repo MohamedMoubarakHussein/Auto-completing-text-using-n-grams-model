{
 "cells": [
  {
   "cell_type": "code",
   "execution_count": 56,
   "id": "7c3cc24a",
   "metadata": {},
   "outputs": [],
   "source": [
    "import json\n",
    "import os\n",
    "import nltk\n",
    "import random\n",
    "import math\n",
    "import re\n",
    "from collections import OrderedDict"
   ]
  },
  {
   "cell_type": "code",
   "execution_count": 57,
   "id": "cbd91c7a",
   "metadata": {
    "scrolled": true
   },
   "outputs": [
    {
     "name": "stdout",
     "output_type": "stream",
     "text": [
      "13784\n",
      "Add another song to the Cita Romantica playlist. \n"
     ]
    }
   ],
   "source": [
    "base = \"C:\\\\Users\\\\RE-PC\\\\Desktop\\\\selected\\\\\\Dataset\\\\\"\n",
    "\n",
    "'''\n",
    "    dict_1 = {\"Name of file\" : dictonary}\n",
    "    dictonary = {'data' : data_2 }\n",
    "    dic_2 = {text : \"string\"}\n",
    "    \n",
    "\n",
    "'''\n",
    "full_q = []\n",
    "for x in os.listdir(base):\n",
    "    with open(base+x ,'r') as f:\n",
    "        d = json.load(f)\n",
    "        x= x.replace(\".json\" , \"\")\n",
    "        d=d[x]\n",
    "\n",
    "        for i in d:\n",
    "            each_list = i['data']\n",
    "            q =\"\"\n",
    "            for i in each_list:\n",
    "                q = q + i['text']\n",
    "            full_q.append(q)\n",
    "\n",
    "print(len(full_q))\n",
    "print(full_q[0])"
   ]
  },
  {
   "cell_type": "code",
   "execution_count": 58,
   "id": "335df600",
   "metadata": {},
   "outputs": [
    {
     "name": "stdout",
     "output_type": "stream",
     "text": [
      "['add', 'another', 'song', 'to', 'the', 'cita', 'romantica', 'playlist', '.']\n"
     ]
    }
   ],
   "source": [
    "def process(full_q):\n",
    "    ls = []\n",
    "    for i in full_q:\n",
    "        i = re.sub(r'\\d' , '' , i)\n",
    "        i = i.lower()\n",
    "        i = nltk.word_tokenize(i)\n",
    "        ls.append(i)\n",
    "    full_q = ls\n",
    "    return full_q\n",
    "\n",
    "full_q =process(full_q)\n",
    "print(full_q[0])"
   ]
  },
  {
   "cell_type": "code",
   "execution_count": 59,
   "id": "03787139",
   "metadata": {},
   "outputs": [
    {
     "name": "stdout",
     "output_type": "stream",
     "text": [
      "2000\n",
      "11784\n",
      "['show', 'the', 'whispering', 'willows', 'novel']\n",
      "['please', 'add', 'liberty', 'forever', 'to', 'the', 'road', 'trip', 'playlist', '.']\n"
     ]
    }
   ],
   "source": [
    "\n",
    "test_full_q = []\n",
    "for i in range(2000):\n",
    "    x = random.choice(full_q)\n",
    "    test_full_q.append(x);\n",
    "    full_q.remove(x)\n",
    "print(len(test_full_q))\n",
    "print(len(full_q))\n",
    "print(test_full_q[144])\n",
    "print(full_q[144])"
   ]
  },
  {
   "cell_type": "code",
   "execution_count": 60,
   "id": "ea1bf675",
   "metadata": {},
   "outputs": [
    {
     "name": "stdout",
     "output_type": "stream",
     "text": [
 ]
    }
   ],
   "source": [
    "def get_vocab(full_q):\n",
    "    vocab = {}\n",
    "    for i in full_q:\n",
    "        for j in i:\n",
    "            if(j not in vocab):\n",
    "                vocab[j] = 1\n",
    "            else:\n",
    "                vocab[j] += 1\n",
    "    return vocab\n",
    "vocab = get_vocab(full_q)\n",
    "print(vocab)"
   ]
  },
  {
   "cell_type": "code",
   "execution_count": 61,
   "id": "c083b4a0",
   "metadata": {},
   "outputs": [],
   "source": [
    "closed_vocab = []\n",
    "for i in vocab:\n",
    "    if(vocab[i] > 1):\n",
    "        closed_vocab.append(i)"
   ]
  },
  {
   "cell_type": "code",
   "execution_count": null,
   "id": "fa17cd64",
   "metadata": {},
   "outputs": [],
   "source": [
    "new_full_q = []\n",
    "for i in full_q:\n",
    "    new = []\n",
    "    for j in i:\n",
    "        if(j in closed_vocab):\n",
    "            new.append(j)\n",
    "        else:\n",
    "            new.append(\"<unk>\")\n",
    "    new_full_q.append(new)\n",
    "full_q = new_full_q\n",
    "full_q"
   ]
  },
  {
   "cell_type": "code",
   "execution_count": null,
   "id": "39685fe1",
   "metadata": {},
   "outputs": [],
   "source": [
    "def n_gram_fun(sentences , n):\n",
    "    n_grams = {}\n",
    "    for se in sentences:\n",
    "        se = [\"<s>\"] * (n-1) + se + [\"</s>\"]\n",
    "        se = tuple(se)\n",
    "        for i in range(len(se)):\n",
    "            gram = se[i:i+n]\n",
    "\n",
    "            if gram in n_grams:         \n",
    "                n_grams[gram] += 1\n",
    "            else:      \n",
    "                n_grams[gram] = 1\n",
    "    return n_grams\n",
    "\n",
    "\n",
    "print(n_gram_fun(full_q ,2))\n",
    "#print(n_gram_fun([['add', 'another', 'song', 'to', 'the', 'cita', 'romantica', 'playlist', '.']] , 1))\n",
    "#p(y|x) = c(x y )/c(x)\n",
    "#p(another | add) = c(add another)"
   ]
  },
  {
   "cell_type": "code",
   "execution_count": 64,
   "id": "26b4b46f",
   "metadata": {},
   "outputs": [],
   "source": [
    "# p(word|prev_word) = \n",
    "def probability(word, prev_words, \n",
    "                         count_n_gram, count_one_n_gram, v_siz , k=1):\n",
    "  \n",
    "    prev_words = prev_words.lower()\n",
    "    prev_words = nltk.word_tokenize(prev_words)\n",
    "    prev_word = tuple(prev_words)\n",
    "   \n",
    "    \n",
    "    \n",
    "    prev_word_count = 0\n",
    "    if(prev_word in count_n_gram):\n",
    "        prev_word_count = count_n_gram[prev_word]\n",
    "  \n",
    "    denominator = prev_word_count + k * v_siz\n",
    "    prev_words.append(word)\n",
    "    n_1_gram =  tuple(prev_words)\n",
    "    \n",
    "    whole_word_count = 0\n",
    "    if(n_1_gram in count_one_n_gram):\n",
    "        whole_word_count = count_one_n_gram[n_1_gram]\n",
    "    \n",
    "    numerator = whole_word_count + k\n",
    "  \n",
    "    probability = numerator / denominator\n",
    "    \n",
    "    \n",
    "    return probability"
   ]
  },
  {
   "cell_type": "code",
   "execution_count": null,
   "id": "984bd440",
   "metadata": {},
   "outputs": [],
   "source": [
    "trigram = n_gram_fun(full_q, 3)\n",
    "bigram = n_gram_fun(full_q, 2)\n",
    "print(bigram)\n",
    "prob = probability(\"clem\", \"add\", bigram,trigram, len(closed_vocab), k =1.0)\n",
    "print(prob)"
   ]
  },
  {
   "cell_type": "code",
   "execution_count": 67,
   "id": "a9cf0e65",
   "metadata": {},
   "outputs": [],
   "source": [
    "def all_probability(pre_words, prefix,count_n_gram, count_one_n_gram, v , k=1):\n",
    "  \n",
    "    \n",
    "    v_siz = len(v)\n",
    "    \n",
    "    pro = {}\n",
    "    \n",
    "    for word in v:\n",
    "        if(len(prefix) > len(word) and prefix != '-1'):\n",
    "            continue\n",
    "        index = len(prefix)\n",
    "        if(word[0:index] != prefix and prefix != '-1'):\n",
    "            continue\n",
    "\n",
    "        probabilit = probability(word,pre_words, \n",
    "                                   count_n_gram, count_one_n_gram, \n",
    "                                   v_siz, k)\n",
    "        pro[word] = probabilit\n",
    "\n",
    "    return pro"
   ]
  },
  {
   "cell_type": "code",
   "execution_count": 68,
   "id": "c992fec9",
   "metadata": {},
   "outputs": [
    {
     "name": "stdout",
     "output_type": "stream",
     "text": [
      "enter sentence\n",
      "add\n",
      "enter prefix or -1 to ignore\n",
      "-1\n"
     ]
    }
   ],
   "source": [
    "words = input(\"enter sentence\\n\")\n",
    "pre = input(\"enter prefix or -1 to ignore\\n\")\n",
    "pre = pre.lower()"
   ]
  },
  {
   "cell_type": "code",
   "execution_count": 69,
   "id": "52fd0c7e",
   "metadata": {},
   "outputs": [
    {
     "name": "stdout",
     "output_type": "stream",
     "text": [
      "this\n",
      "the\n",
      "a\n",
      "tune\n",
      "artist\n",
      "track\n",
      "song\n",
      "an\n",
      "album\n",
      "album\n"
     ]
    }
   ],
   "source": [
    "prob = all_probability(words, pre ,unigram, bigram, closed_vocab, 1.0)\n",
    "#print(prob)\n",
    "new_prob = {}\n",
    "\n",
    "ls_ans = []\n",
    "for i in prob :\n",
    "    ls_ans.append(prob[i])\n",
    "    new_prob[prob[i]] = i\n",
    "ls_ans.sort(reverse =True)\n",
    "for i in range(min(len(ls_ans) , 10)):\n",
    "    print(new_prob[ls_ans[i]])"
   ]
  },
  {
   "cell_type": "code",
   "execution_count": 70,
   "id": "c8872737",
   "metadata": {},
   "outputs": [],
   "source": [
    "def preprexity(test_q, n):\n",
    "    ans = 1\n",
    "    new_test_q =[]\n",
    "    for i in test_q:\n",
    "        ls = []\n",
    "        for j in i:\n",
    "            if(j not in closed_vocab):\n",
    "                ls.append('<unk>')\n",
    "            else:\n",
    "                ls.append(j)\n",
    "        new_test_q.append(ls)\n",
    "    test_q = new_test_q\n",
    "    v_siz = len(vocab)\n",
    "    n_gram = n_gram_fun(test_q , n)\n",
    "    \n",
    "    n_one_gram = n_gram_fun(test_q,n+1)\n",
    "    \n",
    "    for i in test_q:\n",
    "        i = [\"<s>\"]*n+i+[\"</s>\"]\n",
    "        i = i[::-1]\n",
    "        # <s> h e l l o </s>\n",
    "        #</s> o l l e h <s>\n",
    "        p = 0\n",
    "        while(p+n+1 <= len(i)):\n",
    "            word = str(i[p:p+1])\n",
    "            prev_word = str(i[p+1:p+n+1][::-1])\n",
    "            ans +=  math.log(probability(word, prev_word, \n",
    "                         n_gram, n_one_gram, v_siz , k=1) , 2)\n",
    "            p +=1\n",
    "    \n",
    "       \n",
    "    ans *= -1/len(test_q)\n",
    "    return ans"
   ]
  },
  {
   "cell_type": "code",
   "execution_count": 71,
   "id": "28feba8b",
   "metadata": {},
   "outputs": [
    {
     "name": "stdout",
     "output_type": "stream",
     "text": [
      "132.8947380491337\n"
     ]
    }
   ],
   "source": [
    "j = preprexity(test_full_q , 1)\n",
    "print(j)"
   ]
  },
  {
   "cell_type": "code",
   "execution_count": null,
   "id": "8148b86f",
   "metadata": {},
   "outputs": [],
   "source": []
  }
 ],
 "metadata": {
  "kernelspec": {
   "display_name": "Python 3 (ipykernel)",
   "language": "python",
   "name": "python3"
  },
  "language_info": {
   "codemirror_mode": {
    "name": "ipython",
    "version": 3
   },
   "file_extension": ".py",
   "mimetype": "text/x-python",
   "name": "python",
   "nbconvert_exporter": "python",
   "pygments_lexer": "ipython3",
   "version": "3.11.0"
  }
 },
 "nbformat": 4,
 "nbformat_minor": 5
}
